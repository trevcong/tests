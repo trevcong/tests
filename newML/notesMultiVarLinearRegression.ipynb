{
 "cells": [
  {
   "cell_type": "markdown",
   "metadata": {},
   "source": [
    "This is a notebook for reference to Multiple Variable Linear Regression\n",
    "NumPy, a popular library for scientific computing\n",
    "Matplotlib, a popular library for plotting data\n",
    "\n"
   ]
  },
  {
   "cell_type": "code",
   "execution_count": null,
   "metadata": {},
   "outputs": [],
   "source": [
    "import copy, math\n",
    "import numpy as np\n",
    "import matplotlib.pyplot as plt\n",
    "plt.style.use('./deeplearning.mplstyle')\n",
    "np.set_printoptions(precision=2)  # reduced display precision on numpy arrays"
   ]
  },
  {
   "cell_type": "markdown",
   "metadata": {},
   "source": [
    "Notation\tDescription\tPython (if applicable)\n",
    "𝑎        scalar, non bold\t\n",
    "𝐚        vector, bold\t\n",
    "𝐀        matrix, bold capital\t\n",
    "\n",
    "\n",
    "Regression\n",
    "\n",
    "𝐗       training example matrix\t                X_train\n",
    "𝐲       training example targets\t                y_train\n",
    "𝐱(𝑖),𝑦(𝑖)       𝑖𝑡ℎ Training Example\t               X[i], y[i]\n",
    "m\t           number of training examples\t       m\n",
    "n\t    number of features in each example\t       n\n",
    "𝐰       parameter: weight,\t                       w\n",
    "𝑏         parameter: bias\tb\n",
    "𝑓𝐰,𝑏(𝐱(𝑖))     The result of the model evaluation at  𝐱(𝐢)  parameterized by  𝐰,𝑏 :  𝑓𝐰,𝑏(𝐱(𝑖))=𝐰⋅𝐱(𝑖)+𝑏              f_wb"
   ]
  }
 ],
 "metadata": {
  "kernelspec": {
   "display_name": "Python 3",
   "language": "python",
   "name": "python3"
  },
  "language_info": {
   "name": "python",
   "version": "3.12.3"
  }
 },
 "nbformat": 4,
 "nbformat_minor": 2
}
